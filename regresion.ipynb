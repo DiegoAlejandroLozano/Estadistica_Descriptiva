{
 "cells": [
  {
   "cell_type": "code",
   "execution_count": 42,
   "metadata": {},
   "outputs": [],
   "source": [
    "import pandas as pd\n",
    "from estadistica import Estadistica\n",
    "from matplotlib import pyplot as plt"
   ]
  },
  {
   "cell_type": "code",
   "execution_count": 43,
   "metadata": {},
   "outputs": [],
   "source": [
    "est = Estadistica()"
   ]
  },
  {
   "cell_type": "markdown",
   "metadata": {},
   "source": [
    "## Distribución de frecuencia bidimensional"
   ]
  },
  {
   "cell_type": "markdown",
   "metadata": {},
   "source": [
    "### Ejercicio 1:\n",
    "\n",
    "A partir de los datos:\n",
    "\n",
    "(5,4), (4,2), (6,3), (4,4), (3,2), (6,4), (3,1), (4,2), (4,2), (6,4),\n",
    "(4,2), (5,3), (3,1), (2,2), (4,3), (3,1), (4,2), (5,3), (5,3), (4,2),\n",
    "(3,3), (1,1), (4,2), (5,3), (3,2), (5,3), (6,4), (4,2), (5,3), (2,1),\n",
    "(3,2), (6,4), (5,3), (4,2), (4,2), (3,3), (3,1), (2,2), (6,4), (5,3),\n",
    "\n",
    "**A:** Encontrar la tabla de distribución de frecuencias absolutas bidimensional.\n",
    "\n",
    "**B:** Las frecuencias absolutas de la variable X y Y.\n",
    "\n",
    "**Solución**"
   ]
  },
  {
   "cell_type": "code",
   "execution_count": 44,
   "metadata": {},
   "outputs": [],
   "source": [
    "#Datos de entrada\n",
    "datos1 = [\n",
    "    (5,4), (4,2), (6,3), (4,4), (3,2), (6,4), (3,1), (4,2), (4,2), (6,4),\n",
    "    (4,2), (5,3), (3,1), (2,2), (4,3), (3,1), (4,2), (5,3), (5,3), (4,2),\n",
    "    (3,3), (1,1), (4,2), (5,3), (3,2), (5,3), (6,4), (4,2), (5,3), (2,1),\n",
    "    (3,2), (6,4), (5,3), (4,2), (4,2), (3,3), (3,1), (2,2), (6,4), (5,3),\n",
    "]"
   ]
  },
  {
   "cell_type": "code",
   "execution_count": 45,
   "metadata": {},
   "outputs": [
    {
     "data": {
      "text/html": [
       "<div>\n",
       "<style scoped>\n",
       "    .dataframe tbody tr th:only-of-type {\n",
       "        vertical-align: middle;\n",
       "    }\n",
       "\n",
       "    .dataframe tbody tr th {\n",
       "        vertical-align: top;\n",
       "    }\n",
       "\n",
       "    .dataframe thead th {\n",
       "        text-align: right;\n",
       "    }\n",
       "</style>\n",
       "<table border=\"1\" class=\"dataframe\">\n",
       "  <thead>\n",
       "    <tr style=\"text-align: right;\">\n",
       "      <th></th>\n",
       "      <th>1</th>\n",
       "      <th>2</th>\n",
       "      <th>3</th>\n",
       "      <th>4</th>\n",
       "      <th>5</th>\n",
       "      <th>6</th>\n",
       "    </tr>\n",
       "  </thead>\n",
       "  <tbody>\n",
       "    <tr>\n",
       "      <th>1</th>\n",
       "      <td>1</td>\n",
       "      <td>1</td>\n",
       "      <td>4</td>\n",
       "      <td>0</td>\n",
       "      <td>0</td>\n",
       "      <td>0</td>\n",
       "    </tr>\n",
       "    <tr>\n",
       "      <th>2</th>\n",
       "      <td>0</td>\n",
       "      <td>2</td>\n",
       "      <td>3</td>\n",
       "      <td>10</td>\n",
       "      <td>0</td>\n",
       "      <td>0</td>\n",
       "    </tr>\n",
       "    <tr>\n",
       "      <th>3</th>\n",
       "      <td>0</td>\n",
       "      <td>0</td>\n",
       "      <td>2</td>\n",
       "      <td>1</td>\n",
       "      <td>8</td>\n",
       "      <td>1</td>\n",
       "    </tr>\n",
       "    <tr>\n",
       "      <th>4</th>\n",
       "      <td>0</td>\n",
       "      <td>0</td>\n",
       "      <td>0</td>\n",
       "      <td>1</td>\n",
       "      <td>1</td>\n",
       "      <td>5</td>\n",
       "    </tr>\n",
       "  </tbody>\n",
       "</table>\n",
       "</div>"
      ],
      "text/plain": [
       "   1  2  3   4  5  6\n",
       "1  1  1  4   0  0  0\n",
       "2  0  2  3  10  0  0\n",
       "3  0  0  2   1  8  1\n",
       "4  0  0  0   1  1  5"
      ]
     },
     "execution_count": 45,
     "metadata": {},
     "output_type": "execute_result"
    }
   ],
   "source": [
    "#A: Encontrando la tabla de distribución de frecuencias absolutas bidimensional\n",
    "tabla_distribucion = est.tabla_dist_frec_bidi(datos1)\n",
    "tabla_distribucion"
   ]
  },
  {
   "cell_type": "code",
   "execution_count": 46,
   "metadata": {},
   "outputs": [
    {
     "data": {
      "text/plain": [
       "{'variable X': {1: 1, 2: 3, 3: 9, 4: 12, 5: 9, 6: 6},\n",
       " 'Variable Y': {1: 6, 2: 15, 3: 12, 4: 7}}"
      ]
     },
     "execution_count": 46,
     "metadata": {},
     "output_type": "execute_result"
    }
   ],
   "source": [
    "#B: Las frecuencias absolutas de la variable X y Y.\n",
    "est.frec_abs_variables(tabla_distribucion)"
   ]
  },
  {
   "cell_type": "markdown",
   "metadata": {},
   "source": [
    "### Ejercicio 2:\n",
    "\n",
    "A partir de los datos:\n",
    "\n",
    "(2,0),(2,2),(0,5),(2,1),(1,2),(2,1),(3,1),(4,0),(0,4),(2,2),(2,1),(2,1),(4,0),(3,1),(2,4),(2,1),(1,2),(2,1),(2,0),(3,0),(3,1),(2,2),(2,2),(2,1),(0,5),(1,3), (2,2),(2,1),(1,3),(1,4)\n",
    "\n",
    "**A:** Encontrar la tabla de distribución de frecuencias absolutas bidimensional.\n",
    "\n",
    "**B:** Las frecuencias absolutas de la variable X y Y.\n",
    "\n",
    "**Solución**"
   ]
  },
  {
   "cell_type": "code",
   "execution_count": 47,
   "metadata": {},
   "outputs": [],
   "source": [
    "#Datos de entrada\n",
    "datos2 = [\n",
    "    (2,0),(2,2),(0,5),(2,1),(1,2),(2,1),(3,1),\n",
    "    (4,0),(0,4),(2,2),(2,1),(2,1),(4,0),(3,1),\n",
    "    (2,4),(2,1),(1,2),(2,1),(2,0),(3,0),(3,1),\n",
    "    (2,2),(2,2),(2,1),(0,5),(1,3),(2,2),(2,1),\n",
    "    (1,3),(1,4)\n",
    "]"
   ]
  },
  {
   "cell_type": "code",
   "execution_count": 48,
   "metadata": {},
   "outputs": [
    {
     "data": {
      "text/html": [
       "<div>\n",
       "<style scoped>\n",
       "    .dataframe tbody tr th:only-of-type {\n",
       "        vertical-align: middle;\n",
       "    }\n",
       "\n",
       "    .dataframe tbody tr th {\n",
       "        vertical-align: top;\n",
       "    }\n",
       "\n",
       "    .dataframe thead th {\n",
       "        text-align: right;\n",
       "    }\n",
       "</style>\n",
       "<table border=\"1\" class=\"dataframe\">\n",
       "  <thead>\n",
       "    <tr style=\"text-align: right;\">\n",
       "      <th></th>\n",
       "      <th>0</th>\n",
       "      <th>1</th>\n",
       "      <th>2</th>\n",
       "      <th>3</th>\n",
       "      <th>4</th>\n",
       "    </tr>\n",
       "  </thead>\n",
       "  <tbody>\n",
       "    <tr>\n",
       "      <th>0</th>\n",
       "      <td>0</td>\n",
       "      <td>0</td>\n",
       "      <td>2</td>\n",
       "      <td>1</td>\n",
       "      <td>2</td>\n",
       "    </tr>\n",
       "    <tr>\n",
       "      <th>1</th>\n",
       "      <td>0</td>\n",
       "      <td>0</td>\n",
       "      <td>8</td>\n",
       "      <td>3</td>\n",
       "      <td>0</td>\n",
       "    </tr>\n",
       "    <tr>\n",
       "      <th>2</th>\n",
       "      <td>0</td>\n",
       "      <td>2</td>\n",
       "      <td>5</td>\n",
       "      <td>0</td>\n",
       "      <td>0</td>\n",
       "    </tr>\n",
       "    <tr>\n",
       "      <th>3</th>\n",
       "      <td>0</td>\n",
       "      <td>2</td>\n",
       "      <td>0</td>\n",
       "      <td>0</td>\n",
       "      <td>0</td>\n",
       "    </tr>\n",
       "    <tr>\n",
       "      <th>4</th>\n",
       "      <td>1</td>\n",
       "      <td>1</td>\n",
       "      <td>1</td>\n",
       "      <td>0</td>\n",
       "      <td>0</td>\n",
       "    </tr>\n",
       "    <tr>\n",
       "      <th>5</th>\n",
       "      <td>2</td>\n",
       "      <td>0</td>\n",
       "      <td>0</td>\n",
       "      <td>0</td>\n",
       "      <td>0</td>\n",
       "    </tr>\n",
       "  </tbody>\n",
       "</table>\n",
       "</div>"
      ],
      "text/plain": [
       "   0  1  2  3  4\n",
       "0  0  0  2  1  2\n",
       "1  0  0  8  3  0\n",
       "2  0  2  5  0  0\n",
       "3  0  2  0  0  0\n",
       "4  1  1  1  0  0\n",
       "5  2  0  0  0  0"
      ]
     },
     "execution_count": 48,
     "metadata": {},
     "output_type": "execute_result"
    }
   ],
   "source": [
    "#A: Encontrando la tabla de distribución de frecuencias absolutas bidimensional\n",
    "tabla_distribucion2 = est.tabla_dist_frec_bidi(datos2)\n",
    "tabla_distribucion2"
   ]
  },
  {
   "cell_type": "code",
   "execution_count": 49,
   "metadata": {},
   "outputs": [
    {
     "data": {
      "text/plain": [
       "{'variable X': {0: 3, 1: 5, 2: 16, 3: 4, 4: 2},\n",
       " 'Variable Y': {0: 5, 1: 11, 2: 7, 3: 2, 4: 3, 5: 2}}"
      ]
     },
     "execution_count": 49,
     "metadata": {},
     "output_type": "execute_result"
    }
   ],
   "source": [
    "#B: Las frecuencias absolutas de la variable X y Y.\n",
    "est.frec_abs_variables(tabla_distribucion2)"
   ]
  },
  {
   "cell_type": "markdown",
   "metadata": {},
   "source": [
    "### Ejercicio 3:\n",
    "\n",
    "Diez personas encuestadas sobre el número de horas que utilizan para estudiar y la calificación obtenida, responden:\n",
    "\n",
    "(16,6.5), (16,6), (34,8.5), (23,7), (27,9), (32,9.5), (16,6), (18,7.5), (16,6), (22,8)\n",
    "\n",
    "**A:** Encontrar la tabla de distribución de frecuencias absolutas bidimensional.\n",
    "\n",
    "**B:** Las frecuencias absolutas de la variable X y Y.\n",
    "\n",
    "**Solución**"
   ]
  },
  {
   "cell_type": "code",
   "execution_count": 50,
   "metadata": {},
   "outputs": [],
   "source": [
    "#Datos de entrada\n",
    "datos3 = [\n",
    "    (16,6.5), (16,6), (34,8.5), \n",
    "    (23,7), (27,9), (32,9.5), \n",
    "    (16,6), (18,7.5), (16,6), \n",
    "    (22,8)\n",
    "]"
   ]
  },
  {
   "cell_type": "code",
   "execution_count": 51,
   "metadata": {},
   "outputs": [
    {
     "data": {
      "text/html": [
       "<div>\n",
       "<style scoped>\n",
       "    .dataframe tbody tr th:only-of-type {\n",
       "        vertical-align: middle;\n",
       "    }\n",
       "\n",
       "    .dataframe tbody tr th {\n",
       "        vertical-align: top;\n",
       "    }\n",
       "\n",
       "    .dataframe thead th {\n",
       "        text-align: right;\n",
       "    }\n",
       "</style>\n",
       "<table border=\"1\" class=\"dataframe\">\n",
       "  <thead>\n",
       "    <tr style=\"text-align: right;\">\n",
       "      <th></th>\n",
       "      <th>16</th>\n",
       "      <th>18</th>\n",
       "      <th>22</th>\n",
       "      <th>23</th>\n",
       "      <th>27</th>\n",
       "      <th>32</th>\n",
       "      <th>34</th>\n",
       "    </tr>\n",
       "  </thead>\n",
       "  <tbody>\n",
       "    <tr>\n",
       "      <th>6.0</th>\n",
       "      <td>3</td>\n",
       "      <td>0</td>\n",
       "      <td>0</td>\n",
       "      <td>0</td>\n",
       "      <td>0</td>\n",
       "      <td>0</td>\n",
       "      <td>0</td>\n",
       "    </tr>\n",
       "    <tr>\n",
       "      <th>6.5</th>\n",
       "      <td>1</td>\n",
       "      <td>0</td>\n",
       "      <td>0</td>\n",
       "      <td>0</td>\n",
       "      <td>0</td>\n",
       "      <td>0</td>\n",
       "      <td>0</td>\n",
       "    </tr>\n",
       "    <tr>\n",
       "      <th>7.0</th>\n",
       "      <td>0</td>\n",
       "      <td>0</td>\n",
       "      <td>0</td>\n",
       "      <td>1</td>\n",
       "      <td>0</td>\n",
       "      <td>0</td>\n",
       "      <td>0</td>\n",
       "    </tr>\n",
       "    <tr>\n",
       "      <th>7.5</th>\n",
       "      <td>0</td>\n",
       "      <td>1</td>\n",
       "      <td>0</td>\n",
       "      <td>0</td>\n",
       "      <td>0</td>\n",
       "      <td>0</td>\n",
       "      <td>0</td>\n",
       "    </tr>\n",
       "    <tr>\n",
       "      <th>8.0</th>\n",
       "      <td>0</td>\n",
       "      <td>0</td>\n",
       "      <td>1</td>\n",
       "      <td>0</td>\n",
       "      <td>0</td>\n",
       "      <td>0</td>\n",
       "      <td>0</td>\n",
       "    </tr>\n",
       "    <tr>\n",
       "      <th>8.5</th>\n",
       "      <td>0</td>\n",
       "      <td>0</td>\n",
       "      <td>0</td>\n",
       "      <td>0</td>\n",
       "      <td>0</td>\n",
       "      <td>0</td>\n",
       "      <td>1</td>\n",
       "    </tr>\n",
       "    <tr>\n",
       "      <th>9.0</th>\n",
       "      <td>0</td>\n",
       "      <td>0</td>\n",
       "      <td>0</td>\n",
       "      <td>0</td>\n",
       "      <td>1</td>\n",
       "      <td>0</td>\n",
       "      <td>0</td>\n",
       "    </tr>\n",
       "    <tr>\n",
       "      <th>9.5</th>\n",
       "      <td>0</td>\n",
       "      <td>0</td>\n",
       "      <td>0</td>\n",
       "      <td>0</td>\n",
       "      <td>0</td>\n",
       "      <td>1</td>\n",
       "      <td>0</td>\n",
       "    </tr>\n",
       "  </tbody>\n",
       "</table>\n",
       "</div>"
      ],
      "text/plain": [
       "     16  18  22  23  27  32  34\n",
       "6.0   3   0   0   0   0   0   0\n",
       "6.5   1   0   0   0   0   0   0\n",
       "7.0   0   0   0   1   0   0   0\n",
       "7.5   0   1   0   0   0   0   0\n",
       "8.0   0   0   1   0   0   0   0\n",
       "8.5   0   0   0   0   0   0   1\n",
       "9.0   0   0   0   0   1   0   0\n",
       "9.5   0   0   0   0   0   1   0"
      ]
     },
     "execution_count": 51,
     "metadata": {},
     "output_type": "execute_result"
    }
   ],
   "source": [
    "#A: Encontrando la tabla de distribución de frecuencias absolutas bidimensional\n",
    "tabla_distribucion3 = est.tabla_dist_frec_bidi(datos3)\n",
    "tabla_distribucion3"
   ]
  },
  {
   "cell_type": "code",
   "execution_count": 52,
   "metadata": {},
   "outputs": [
    {
     "data": {
      "text/plain": [
       "{'variable X': {16: 4, 18: 1, 22: 1, 23: 1, 27: 1, 32: 1, 34: 1},\n",
       " 'Variable Y': {6.0: 3,\n",
       "  6.5: 1,\n",
       "  7.0: 1,\n",
       "  7.5: 1,\n",
       "  8.0: 1,\n",
       "  8.5: 1,\n",
       "  9.0: 1,\n",
       "  9.5: 1}}"
      ]
     },
     "execution_count": 52,
     "metadata": {},
     "output_type": "execute_result"
    }
   ],
   "source": [
    "#B: Las frecuencias absolutas de la variable X y Y.\n",
    "est.frec_abs_variables(tabla_distribucion3)"
   ]
  },
  {
   "cell_type": "markdown",
   "metadata": {},
   "source": [
    "### Ejercicio 4:\n",
    "\n",
    "Las notas de 12 alumnos de una clase en matemáticas y física son las siguientes (matemáticas, física):\n",
    "\n",
    "(2,1), (3,3), (4,2),\n",
    "(4,4), (5,4), (6,4),\n",
    "(6,6), (7,4), (7,6),\n",
    "(8,7), (10,9), (10,10),\n",
    "\n",
    "**A:** Encontrar la tabla de distribución de frecuencias absolutas bidimensional.\n",
    "\n",
    "**B:** Las frecuencias absolutas de la variable X y Y.\n",
    "\n",
    "**Solución**"
   ]
  },
  {
   "cell_type": "code",
   "execution_count": 53,
   "metadata": {},
   "outputs": [],
   "source": [
    "#Datos de entrada\n",
    "datos4 = [\n",
    "    (2,1), (3,3), (4,2),\n",
    "    (4,4), (5,4), (6,4),\n",
    "    (6,6), (7,4), (7,6),\n",
    "    (8,7), (10,9), (10,10)\n",
    "]"
   ]
  },
  {
   "cell_type": "code",
   "execution_count": 54,
   "metadata": {},
   "outputs": [
    {
     "data": {
      "text/html": [
       "<div>\n",
       "<style scoped>\n",
       "    .dataframe tbody tr th:only-of-type {\n",
       "        vertical-align: middle;\n",
       "    }\n",
       "\n",
       "    .dataframe tbody tr th {\n",
       "        vertical-align: top;\n",
       "    }\n",
       "\n",
       "    .dataframe thead th {\n",
       "        text-align: right;\n",
       "    }\n",
       "</style>\n",
       "<table border=\"1\" class=\"dataframe\">\n",
       "  <thead>\n",
       "    <tr style=\"text-align: right;\">\n",
       "      <th></th>\n",
       "      <th>2</th>\n",
       "      <th>3</th>\n",
       "      <th>4</th>\n",
       "      <th>5</th>\n",
       "      <th>6</th>\n",
       "      <th>7</th>\n",
       "      <th>8</th>\n",
       "      <th>10</th>\n",
       "    </tr>\n",
       "  </thead>\n",
       "  <tbody>\n",
       "    <tr>\n",
       "      <th>1</th>\n",
       "      <td>1</td>\n",
       "      <td>0</td>\n",
       "      <td>0</td>\n",
       "      <td>0</td>\n",
       "      <td>0</td>\n",
       "      <td>0</td>\n",
       "      <td>0</td>\n",
       "      <td>0</td>\n",
       "    </tr>\n",
       "    <tr>\n",
       "      <th>2</th>\n",
       "      <td>0</td>\n",
       "      <td>0</td>\n",
       "      <td>1</td>\n",
       "      <td>0</td>\n",
       "      <td>0</td>\n",
       "      <td>0</td>\n",
       "      <td>0</td>\n",
       "      <td>0</td>\n",
       "    </tr>\n",
       "    <tr>\n",
       "      <th>3</th>\n",
       "      <td>0</td>\n",
       "      <td>1</td>\n",
       "      <td>0</td>\n",
       "      <td>0</td>\n",
       "      <td>0</td>\n",
       "      <td>0</td>\n",
       "      <td>0</td>\n",
       "      <td>0</td>\n",
       "    </tr>\n",
       "    <tr>\n",
       "      <th>4</th>\n",
       "      <td>0</td>\n",
       "      <td>0</td>\n",
       "      <td>1</td>\n",
       "      <td>1</td>\n",
       "      <td>1</td>\n",
       "      <td>1</td>\n",
       "      <td>0</td>\n",
       "      <td>0</td>\n",
       "    </tr>\n",
       "    <tr>\n",
       "      <th>6</th>\n",
       "      <td>0</td>\n",
       "      <td>0</td>\n",
       "      <td>0</td>\n",
       "      <td>0</td>\n",
       "      <td>1</td>\n",
       "      <td>1</td>\n",
       "      <td>0</td>\n",
       "      <td>0</td>\n",
       "    </tr>\n",
       "    <tr>\n",
       "      <th>7</th>\n",
       "      <td>0</td>\n",
       "      <td>0</td>\n",
       "      <td>0</td>\n",
       "      <td>0</td>\n",
       "      <td>0</td>\n",
       "      <td>0</td>\n",
       "      <td>1</td>\n",
       "      <td>0</td>\n",
       "    </tr>\n",
       "    <tr>\n",
       "      <th>9</th>\n",
       "      <td>0</td>\n",
       "      <td>0</td>\n",
       "      <td>0</td>\n",
       "      <td>0</td>\n",
       "      <td>0</td>\n",
       "      <td>0</td>\n",
       "      <td>0</td>\n",
       "      <td>1</td>\n",
       "    </tr>\n",
       "    <tr>\n",
       "      <th>10</th>\n",
       "      <td>0</td>\n",
       "      <td>0</td>\n",
       "      <td>0</td>\n",
       "      <td>0</td>\n",
       "      <td>0</td>\n",
       "      <td>0</td>\n",
       "      <td>0</td>\n",
       "      <td>1</td>\n",
       "    </tr>\n",
       "  </tbody>\n",
       "</table>\n",
       "</div>"
      ],
      "text/plain": [
       "    2   3   4   5   6   7   8   10\n",
       "1    1   0   0   0   0   0   0   0\n",
       "2    0   0   1   0   0   0   0   0\n",
       "3    0   1   0   0   0   0   0   0\n",
       "4    0   0   1   1   1   1   0   0\n",
       "6    0   0   0   0   1   1   0   0\n",
       "7    0   0   0   0   0   0   1   0\n",
       "9    0   0   0   0   0   0   0   1\n",
       "10   0   0   0   0   0   0   0   1"
      ]
     },
     "execution_count": 54,
     "metadata": {},
     "output_type": "execute_result"
    }
   ],
   "source": [
    "#A: Encontrando la tabla de distribución de frecuencias absolutas bidimensional\n",
    "tabla_distribucion4 = est.tabla_dist_frec_bidi(datos4)\n",
    "tabla_distribucion4"
   ]
  },
  {
   "cell_type": "code",
   "execution_count": 55,
   "metadata": {},
   "outputs": [
    {
     "data": {
      "text/plain": [
       "{'variable X': {2: 1, 3: 1, 4: 2, 5: 1, 6: 2, 7: 2, 8: 1, 10: 2},\n",
       " 'Variable Y': {1: 1, 2: 1, 3: 1, 4: 4, 6: 2, 7: 1, 9: 1, 10: 1}}"
      ]
     },
     "execution_count": 55,
     "metadata": {},
     "output_type": "execute_result"
    }
   ],
   "source": [
    "#B: Las frecuencias absolutas de la variable X y Y.\n",
    "est.frec_abs_variables(tabla_distribucion4)"
   ]
  },
  {
   "cell_type": "markdown",
   "metadata": {},
   "source": [
    "## Covarianza"
   ]
  },
  {
   "cell_type": "markdown",
   "metadata": {},
   "source": [
    "### Ejercicio 5:\n",
    "\n",
    "**A:** Mostrar el diagrama de dispersión de los datos del ejercicio 1\n",
    "\n",
    "**B:** Calcular la covarianza de los datos del ejercicio 1\n",
    "\n",
    "**Solución**"
   ]
  },
  {
   "cell_type": "code",
   "execution_count": 56,
   "metadata": {},
   "outputs": [],
   "source": [
    "x_5 = []\n",
    "y_5 = []\n",
    "for dato in datos1:\n",
    "    x_5.append(dato[0])\n",
    "    y_5.append(dato[1])"
   ]
  },
  {
   "cell_type": "code",
   "execution_count": 57,
   "metadata": {},
   "outputs": [
    {
     "data": {
      "image/png": "[encoded data removed]",
      "text/plain": [
       "<Figure size 432x288 with 1 Axes>"
      ]
     },
     "metadata": {
      "needs_background": "light"
     },
     "output_type": "display_data"
    }
   ],
   "source": [
    "#A: Mostrar el diagrama de dispersión de los datos del ejercicio 1\n",
    "fig, ax = plt.subplots(nrows=1, ncols=1)\n",
    "ax.scatter(x=x_5,y=y_5)\n",
    "plt.show()"
   ]
  },
  {
   "cell_type": "code",
   "execution_count": 58,
   "metadata": {},
   "outputs": [
    {
     "data": {
      "text/plain": [
       "0.9375"
      ]
     },
     "execution_count": 58,
     "metadata": {},
     "output_type": "execute_result"
    }
   ],
   "source": [
    "#Calcular la covarianza de los datos del ejercicio 1\n",
    "est.covarianza(datos1)"
   ]
  },
  {
   "cell_type": "markdown",
   "metadata": {},
   "source": [
    "### Ejercicio 6:\n",
    "\n",
    "**A:** Mostrar el diagrama de dispersión de los datos del ejercicio 2\n",
    "\n",
    "**B:** Calcular la covarianza de los datos del ejercicio 2\n",
    "\n",
    "**Solución**"
   ]
  },
  {
   "cell_type": "code",
   "execution_count": 59,
   "metadata": {},
   "outputs": [],
   "source": [
    "x_6 = []\n",
    "y_6 = []\n",
    "for dato in datos2:\n",
    "    x_6.append(dato[0])\n",
    "    y_6.append(dato[1])"
   ]
  },
  {
   "cell_type": "code",
   "execution_count": 60,
   "metadata": {},
   "outputs": [
    {
     "data": {
      "image/png": "[encoded data removed]",
      "text/plain": [
       "<Figure size 432x288 with 1 Axes>"
      ]
     },
     "metadata": {
      "needs_background": "light"
     },
     "output_type": "display_data"
    }
   ],
   "source": [
    "#A: Mostrar el diagrama de dispersión de los datos del ejercicio 2\n",
    "fig, ax = plt.subplots(nrows=1, ncols=1)\n",
    "ax.scatter(x=x_6,y=y_6)\n",
    "plt.show()"
   ]
  },
  {
   "cell_type": "code",
   "execution_count": 61,
   "metadata": {},
   "outputs": [
    {
     "data": {
      "text/plain": [
       "-1.1233333333333337"
      ]
     },
     "execution_count": 61,
     "metadata": {},
     "output_type": "execute_result"
    }
   ],
   "source": [
    "#Calcular la covarianza de los datos del ejercicio 1\n",
    "est.covarianza(datos2)"
   ]
  },
  {
   "cell_type": "markdown",
   "metadata": {},
   "source": [
    "### Ejercicio 7:\n",
    "\n",
    "**A:** Mostrar el diagrama de dispersión de los datos del ejercicio 3\n",
    "\n",
    "**B:** Calcular la covarianza de los datos del ejercicio 3\n",
    "\n",
    "**Solución**"
   ]
  },
  {
   "cell_type": "code",
   "execution_count": 62,
   "metadata": {},
   "outputs": [],
   "source": [
    "x_7 = []\n",
    "y_7 = []\n",
    "for dato in datos3:\n",
    "    x_7.append(dato[0])\n",
    "    y_7.append(dato[1])"
   ]
  },
  {
   "cell_type": "code",
   "execution_count": 63,
   "metadata": {},
   "outputs": [
    {
     "data": {
      "image/png": "[encoded data removed]",
      "text/plain": [
       "<Figure size 432x288 with 1 Axes>"
      ]
     },
     "metadata": {
      "needs_background": "light"
     },
     "output_type": "display_data"
    }
   ],
   "source": [
    "#A: Mostrar el diagrama de dispersión de los datos del ejercicio 2\n",
    "fig, ax = plt.subplots(nrows=1, ncols=1)\n",
    "ax.scatter(x=x_7,y=y_7)\n",
    "plt.show()"
   ]
  },
  {
   "cell_type": "code",
   "execution_count": 64,
   "metadata": {},
   "outputs": [
    {
     "data": {
      "text/plain": [
       "7.2"
      ]
     },
     "execution_count": 64,
     "metadata": {},
     "output_type": "execute_result"
    }
   ],
   "source": [
    "#Calcular la covarianza de los datos del ejercicio 1\n",
    "est.covarianza(datos3)"
   ]
  },
  {
   "cell_type": "markdown",
   "metadata": {},
   "source": [
    "### Ejercicio 8:\n",
    "\n",
    "**A:** Mostrar el diagrama de dispersión de los datos del ejercicio 4\n",
    "\n",
    "**B:** Calcular la covarianza de los datos del ejercicio 4\n",
    "\n",
    "**Solución**"
   ]
  },
  {
   "cell_type": "code",
   "execution_count": 65,
   "metadata": {},
   "outputs": [],
   "source": [
    "x_8 = []\n",
    "y_8 = []\n",
    "for dato in datos4:\n",
    "    x_8.append(dato[0])\n",
    "    y_8.append(dato[1])"
   ]
  },
  {
   "cell_type": "code",
   "execution_count": 66,
   "metadata": {},
   "outputs": [
    {
     "data": {
      "image/png": "[encoded data removed]",
      "text/plain": [
       "<Figure size 432x288 with 1 Axes>"
      ]
     },
     "metadata": {
      "needs_background": "light"
     },
     "output_type": "display_data"
    }
   ],
   "source": [
    "#A: Mostrar el diagrama de dispersión de los datos del ejercicio 2\n",
    "fig, ax = plt.subplots(nrows=1, ncols=1)\n",
    "ax.scatter(x=x_8,y=y_8)\n",
    "plt.show()"
   ]
  },
  {
   "cell_type": "code",
   "execution_count": 67,
   "metadata": {},
   "outputs": [
    {
     "data": {
      "text/plain": [
       "5.916666666666666"
      ]
     },
     "execution_count": 67,
     "metadata": {},
     "output_type": "execute_result"
    }
   ],
   "source": [
    "#Calcular la covarianza de los datos del ejercicio 1\n",
    "est.covarianza(datos4)"
   ]
  },
  {
   "cell_type": "markdown",
   "metadata": {},
   "source": [
    "## Recta de regresión"
   ]
  },
  {
   "cell_type": "markdown",
   "metadata": {},
   "source": [
    "### Ejercicio 9:\n",
    "\n",
    "Cinco niños de 2, 3, 5, 7 y 8 años de edad pesan, respectivamente, 14, 20, 32, 42 y 44 kilos.\n",
    "\n",
    "**A:** Hallar la ecuación de la recta de regresión de la edad sobre el peso. \n",
    "\n",
    "**B:** ¿Cuál sería el peso aproximado de un niño de seis años?"
   ]
  },
  {
   "cell_type": "code",
   "execution_count": 68,
   "metadata": {},
   "outputs": [
    {
     "data": {
      "text/html": [
       "<div>\n",
       "<style scoped>\n",
       "    .dataframe tbody tr th:only-of-type {\n",
       "        vertical-align: middle;\n",
       "    }\n",
       "\n",
       "    .dataframe tbody tr th {\n",
       "        vertical-align: top;\n",
       "    }\n",
       "\n",
       "    .dataframe thead th {\n",
       "        text-align: right;\n",
       "    }\n",
       "</style>\n",
       "<table border=\"1\" class=\"dataframe\">\n",
       "  <thead>\n",
       "    <tr style=\"text-align: right;\">\n",
       "      <th></th>\n",
       "      <th>edad</th>\n",
       "      <th>peso</th>\n",
       "    </tr>\n",
       "  </thead>\n",
       "  <tbody>\n",
       "    <tr>\n",
       "      <th>0</th>\n",
       "      <td>2</td>\n",
       "      <td>14</td>\n",
       "    </tr>\n",
       "    <tr>\n",
       "      <th>1</th>\n",
       "      <td>3</td>\n",
       "      <td>20</td>\n",
       "    </tr>\n",
       "    <tr>\n",
       "      <th>2</th>\n",
       "      <td>5</td>\n",
       "      <td>32</td>\n",
       "    </tr>\n",
       "    <tr>\n",
       "      <th>3</th>\n",
       "      <td>7</td>\n",
       "      <td>42</td>\n",
       "    </tr>\n",
       "    <tr>\n",
       "      <th>4</th>\n",
       "      <td>8</td>\n",
       "      <td>44</td>\n",
       "    </tr>\n",
       "  </tbody>\n",
       "</table>\n",
       "</div>"
      ],
      "text/plain": [
       "   edad  peso\n",
       "0     2    14\n",
       "1     3    20\n",
       "2     5    32\n",
       "3     7    42\n",
       "4     8    44"
      ]
     },
     "execution_count": 68,
     "metadata": {},
     "output_type": "execute_result"
    }
   ],
   "source": [
    "datos_9 ={\n",
    "    'edad':[2,3,5,7,8],\n",
    "    'peso':[14,20,32,42,44]\n",
    "}\n",
    "tabla_9 = pd.DataFrame(datos_9)\n",
    "tabla_9"
   ]
  },
  {
   "cell_type": "code",
   "execution_count": 69,
   "metadata": {},
   "outputs": [
    {
     "data": {
      "image/png": "[encoded data removed]",
      "text/plain": [
       "<Figure size 432x288 with 1 Axes>"
      ]
     },
     "metadata": {
      "needs_background": "light"
     },
     "output_type": "display_data"
    }
   ],
   "source": [
    "#Graficando los datos\n",
    "plt.scatter(x=tabla_9.edad, y=tabla_9.peso)\n",
    "plt.plot(tabla_9.edad, tabla_9.peso)\n",
    "plt.grid()\n",
    "plt.xlabel('Edad')\n",
    "plt.ylabel('Peso')\n",
    "plt.show()"
   ]
  },
  {
   "cell_type": "code",
   "execution_count": 70,
   "metadata": {},
   "outputs": [
    {
     "data": {
      "text/plain": [
       "35.55384615384615"
      ]
     },
     "execution_count": 70,
     "metadata": {},
     "output_type": "execute_result"
    }
   ],
   "source": [
    "#¿Cuál sería el peso aproximado de un niño de seis años?\n",
    "est.recta_regresion(tabla_9.edad, tabla_9.peso, 6)"
   ]
  },
  {
   "cell_type": "code",
   "execution_count": 73,
   "metadata": {},
   "outputs": [
    {
     "data": {
      "text/html": [
       "<div>\n",
       "<style scoped>\n",
       "    .dataframe tbody tr th:only-of-type {\n",
       "        vertical-align: middle;\n",
       "    }\n",
       "\n",
       "    .dataframe tbody tr th {\n",
       "        vertical-align: top;\n",
       "    }\n",
       "\n",
       "    .dataframe thead th {\n",
       "        text-align: right;\n",
       "    }\n",
       "</style>\n",
       "<table border=\"1\" class=\"dataframe\">\n",
       "  <thead>\n",
       "    <tr style=\"text-align: right;\">\n",
       "      <th></th>\n",
       "      <th>edad</th>\n",
       "      <th>peso</th>\n",
       "      <th>Predicción peso</th>\n",
       "    </tr>\n",
       "  </thead>\n",
       "  <tbody>\n",
       "    <tr>\n",
       "      <th>0</th>\n",
       "      <td>2</td>\n",
       "      <td>14</td>\n",
       "      <td>14.94</td>\n",
       "    </tr>\n",
       "    <tr>\n",
       "      <th>1</th>\n",
       "      <td>3</td>\n",
       "      <td>20</td>\n",
       "      <td>20.09</td>\n",
       "    </tr>\n",
       "    <tr>\n",
       "      <th>2</th>\n",
       "      <td>5</td>\n",
       "      <td>32</td>\n",
       "      <td>30.40</td>\n",
       "    </tr>\n",
       "    <tr>\n",
       "      <th>3</th>\n",
       "      <td>7</td>\n",
       "      <td>42</td>\n",
       "      <td>40.71</td>\n",
       "    </tr>\n",
       "    <tr>\n",
       "      <th>4</th>\n",
       "      <td>8</td>\n",
       "      <td>44</td>\n",
       "      <td>45.86</td>\n",
       "    </tr>\n",
       "  </tbody>\n",
       "</table>\n",
       "</div>"
      ],
      "text/plain": [
       "   edad  peso  Predicción peso\n",
       "0     2    14            14.94\n",
       "1     3    20            20.09\n",
       "2     5    32            30.40\n",
       "3     7    42            40.71\n",
       "4     8    44            45.86"
      ]
     },
     "execution_count": 73,
     "metadata": {},
     "output_type": "execute_result"
    }
   ],
   "source": [
    "#Calculando los valores con la recta de regresión\n",
    "predi_y = []\n",
    "for i in tabla_9.edad:\n",
    "    predi_y.append(est.recta_regresion(tabla_9.edad, tabla_9.peso, i))\n",
    "tabla_9['Predicción peso'] = predi_y\n",
    "tabla_9.round(2)"
   ]
  },
  {
   "cell_type": "code",
   "execution_count": 72,
   "metadata": {},
   "outputs": [
    {
     "data": {
      "image/png": "[encoded data removed]",
      "text/plain": [
       "<Figure size 432x288 with 1 Axes>"
      ]
     },
     "metadata": {
      "needs_background": "light"
     },
     "output_type": "display_data"
    }
   ],
   "source": [
    "#Comparando los valores de y de la muestra con la predicción\n",
    "plt.scatter(x=tabla_9.edad, y=tabla_9.peso)\n",
    "plt.plot(tabla_9.edad, tabla_9.peso, label='Peso(muestra)')\n",
    "plt.plot(tabla_9.edad, tabla_9['Predicción peso'], label='Peso(predicción)')\n",
    "plt.grid()\n",
    "plt.legend()\n",
    "plt.xlabel('Edad')\n",
    "plt.ylabel('Peso')\n",
    "plt.show()"
   ]
  },
  {
   "cell_type": "markdown",
   "metadata": {},
   "source": [
    "### Ejercicio 10:\n",
    "\n",
    "Se sabe que el número de clientes diarios de un núcleo de población que acuden a un centro comercial depende de la distancia entre ambos.  Los datos de seis centros comerciales y sus distancias a un núcleo de población son los siguientes:\n",
    "\n",
    "Clientes (en cientos): 8 7 6 4 2 1\n",
    "\n",
    "Distancia (km): 15 19 25 23 34 40\n",
    "\n",
    "**a:** Hallar las dos rectas de regresión\n",
    "\n",
    "**b:** Si un centro comercial se sitúa a 2 km, ¿cuántos clientes puede esperar?\n",
    "\n",
    "**c:** Si desea recibir diariamente 1000 clientes, ¿a qué distancia del núcleo debe situarse?"
   ]
  },
  {
   "cell_type": "code",
   "execution_count": 75,
   "metadata": {},
   "outputs": [
    {
     "data": {
      "text/html": [
       "<div>\n",
       "<style scoped>\n",
       "    .dataframe tbody tr th:only-of-type {\n",
       "        vertical-align: middle;\n",
       "    }\n",
       "\n",
       "    .dataframe tbody tr th {\n",
       "        vertical-align: top;\n",
       "    }\n",
       "\n",
       "    .dataframe thead th {\n",
       "        text-align: right;\n",
       "    }\n",
       "</style>\n",
       "<table border=\"1\" class=\"dataframe\">\n",
       "  <thead>\n",
       "    <tr style=\"text-align: right;\">\n",
       "      <th></th>\n",
       "      <th>Clientes(cientos)</th>\n",
       "      <th>Distancia (km)</th>\n",
       "    </tr>\n",
       "  </thead>\n",
       "  <tbody>\n",
       "    <tr>\n",
       "      <th>0</th>\n",
       "      <td>8</td>\n",
       "      <td>15</td>\n",
       "    </tr>\n",
       "    <tr>\n",
       "      <th>1</th>\n",
       "      <td>7</td>\n",
       "      <td>19</td>\n",
       "    </tr>\n",
       "    <tr>\n",
       "      <th>2</th>\n",
       "      <td>6</td>\n",
       "      <td>25</td>\n",
       "    </tr>\n",
       "    <tr>\n",
       "      <th>3</th>\n",
       "      <td>4</td>\n",
       "      <td>23</td>\n",
       "    </tr>\n",
       "    <tr>\n",
       "      <th>4</th>\n",
       "      <td>2</td>\n",
       "      <td>34</td>\n",
       "    </tr>\n",
       "    <tr>\n",
       "      <th>5</th>\n",
       "      <td>1</td>\n",
       "      <td>40</td>\n",
       "    </tr>\n",
       "  </tbody>\n",
       "</table>\n",
       "</div>"
      ],
      "text/plain": [
       "   Clientes(cientos)  Distancia (km)\n",
       "0                  8              15\n",
       "1                  7              19\n",
       "2                  6              25\n",
       "3                  4              23\n",
       "4                  2              34\n",
       "5                  1              40"
      ]
     },
     "execution_count": 75,
     "metadata": {},
     "output_type": "execute_result"
    }
   ],
   "source": [
    "datos_10 = {\n",
    "    'Clientes(cientos)':[8,7,6,4,2,1],\n",
    "    'Distancia (km)':[15,19,25,23,34,40]\n",
    "}\n",
    "tabla_10 = pd.DataFrame(datos_10)\n",
    "tabla_10"
   ]
  },
  {
   "cell_type": "code",
   "execution_count": 79,
   "metadata": {},
   "outputs": [
    {
     "data": {
      "text/html": [
       "<div>\n",
       "<style scoped>\n",
       "    .dataframe tbody tr th:only-of-type {\n",
       "        vertical-align: middle;\n",
       "    }\n",
       "\n",
       "    .dataframe tbody tr th {\n",
       "        vertical-align: top;\n",
       "    }\n",
       "\n",
       "    .dataframe thead th {\n",
       "        text-align: right;\n",
       "    }\n",
       "</style>\n",
       "<table border=\"1\" class=\"dataframe\">\n",
       "  <thead>\n",
       "    <tr style=\"text-align: right;\">\n",
       "      <th></th>\n",
       "      <th>Clientes(cientos)</th>\n",
       "      <th>Distancia (km)</th>\n",
       "      <th>Predi.Clientes</th>\n",
       "      <th>Predi.Distancia</th>\n",
       "    </tr>\n",
       "  </thead>\n",
       "  <tbody>\n",
       "    <tr>\n",
       "      <th>0</th>\n",
       "      <td>8</td>\n",
       "      <td>15</td>\n",
       "      <td>7.79</td>\n",
       "      <td>15.41</td>\n",
       "    </tr>\n",
       "    <tr>\n",
       "      <th>1</th>\n",
       "      <td>7</td>\n",
       "      <td>19</td>\n",
       "      <td>6.66</td>\n",
       "      <td>18.58</td>\n",
       "    </tr>\n",
       "    <tr>\n",
       "      <th>2</th>\n",
       "      <td>6</td>\n",
       "      <td>25</td>\n",
       "      <td>4.95</td>\n",
       "      <td>21.76</td>\n",
       "    </tr>\n",
       "    <tr>\n",
       "      <th>3</th>\n",
       "      <td>4</td>\n",
       "      <td>23</td>\n",
       "      <td>5.52</td>\n",
       "      <td>28.12</td>\n",
       "    </tr>\n",
       "    <tr>\n",
       "      <th>4</th>\n",
       "      <td>2</td>\n",
       "      <td>34</td>\n",
       "      <td>2.39</td>\n",
       "      <td>34.47</td>\n",
       "    </tr>\n",
       "    <tr>\n",
       "      <th>5</th>\n",
       "      <td>1</td>\n",
       "      <td>40</td>\n",
       "      <td>0.69</td>\n",
       "      <td>37.65</td>\n",
       "    </tr>\n",
       "  </tbody>\n",
       "</table>\n",
       "</div>"
      ],
      "text/plain": [
       "   Clientes(cientos)  Distancia (km)  Predi.Clientes  Predi.Distancia\n",
       "0                  8              15            7.79            15.41\n",
       "1                  7              19            6.66            18.58\n",
       "2                  6              25            4.95            21.76\n",
       "3                  4              23            5.52            28.12\n",
       "4                  2              34            2.39            34.47\n",
       "5                  1              40            0.69            37.65"
      ]
     },
     "execution_count": 79,
     "metadata": {},
     "output_type": "execute_result"
    }
   ],
   "source": [
    "#Predicción de clientes\n",
    "pred_clientes = []\n",
    "for x in tabla_10['Distancia (km)']:\n",
    "    y = est.recta_regresion(tabla_10['Distancia (km)'],tabla_10['Clientes(cientos)'], x)\n",
    "    pred_clientes.append(y)\n",
    "#Predicción de distancias\n",
    "pred_distancia = []\n",
    "for x in tabla_10['Clientes(cientos)']:\n",
    "    y = est.recta_regresion(tabla_10['Clientes(cientos)'],tabla_10['Distancia (km)'], x)\n",
    "    pred_distancia.append(y)\n",
    "pred_distancia\n",
    "tabla_10['Predi.Clientes'] = pred_clientes\n",
    "tabla_10['Predi.Distancia'] = pred_distancia\n",
    "tabla_10.round(2)"
   ]
  },
  {
   "cell_type": "code",
   "execution_count": 84,
   "metadata": {},
   "outputs": [
    {
     "data": {
      "image/png": "[encoded data removed]",
      "text/plain": [
       "<Figure size 432x288 with 1 Axes>"
      ]
     },
     "metadata": {
      "needs_background": "light"
     },
     "output_type": "display_data"
    }
   ],
   "source": [
    "#a. Hallar las dos rectas de regresión\n",
    "plt.scatter(x=tabla_10['Clientes(cientos)'], y=tabla_10['Distancia (km)'])\n",
    "plt.plot(tabla_10['Clientes(cientos)'], tabla_10['Distancia (km)'], label='Datos muestra')\n",
    "plt.plot(tabla_10['Predi.Clientes'], tabla_10['Distancia (km)'], label='Clientes(predicción)')\n",
    "plt.grid()\n",
    "plt.legend()\n",
    "plt.xlabel('Clientes')\n",
    "plt.ylabel('Distancia')\n",
    "plt.show()"
   ]
  },
  {
   "cell_type": "code",
   "execution_count": 87,
   "metadata": {},
   "outputs": [
    {
     "data": {
      "text/plain": [
       "11.484848484848484"
      ]
     },
     "execution_count": 87,
     "metadata": {},
     "output_type": "execute_result"
    }
   ],
   "source": [
    "#b. Si un centro comercial se sitúa a 2 km, ¿cuántos clientes puede esperar?\n",
    "x = 2\n",
    "est.recta_regresion(tabla_10['Distancia (km)'],tabla_10['Clientes(cientos)'],x)"
   ]
  },
  {
   "cell_type": "markdown",
   "metadata": {},
   "source": [
    "se esperarían 11,48 cientos de clientes, o lo que es lo mismo, 1148 clientes."
   ]
  },
  {
   "cell_type": "code",
   "execution_count": 89,
   "metadata": {},
   "outputs": [
    {
     "data": {
      "text/plain": [
       "9.050847457627118"
      ]
     },
     "execution_count": 89,
     "metadata": {},
     "output_type": "execute_result"
    }
   ],
   "source": [
    "#Si desea recibir diariamente 1000 clientes, ¿a qué distancia del núcleo debe situarse?\n",
    "x = 10\n",
    "est.recta_regresion(tabla_10['Clientes(cientos)'],tabla_10['Distancia (km)'],x)"
   ]
  },
  {
   "cell_type": "markdown",
   "metadata": {},
   "source": [
    "Por tanto, el centro comercial debe situarse a 9,05 km del núcleo de población."
   ]
  }
 ],
 "metadata": {
  "interpreter": {
   "hash": "a0b743e3f46610aef585505bfb8ed266070dd1178baff540cb1eb86ae22f2f85"
  },
  "kernelspec": {
   "display_name": "Python 3.9.13 64-bit",
   "language": "python",
   "name": "python3"
  },
  "language_info": {
   "codemirror_mode": {
    "name": "ipython",
    "version": 3
   },
   "file_extension": ".py",
   "mimetype": "text/x-python",
   "name": "python",
   "nbconvert_exporter": "python",
   "pygments_lexer": "ipython3",
   "version": "3.9.13"
  },
  "orig_nbformat": 4
 },
 "nbformat": 4,
 "nbformat_minor": 2
}
