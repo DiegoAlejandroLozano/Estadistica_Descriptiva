{
 "cells": [
  {
   "cell_type": "code",
   "execution_count": 1,
   "metadata": {},
   "outputs": [],
   "source": [
    "import pandas as pd\n",
    "from matplotlib import pyplot as plt\n",
    "import seaborn as sns\n",
    "from scipy.stats import norm\n",
    "import math"
   ]
  },
  {
   "cell_type": "markdown",
   "metadata": {},
   "source": [
    "#### Funciones utilizadas "
   ]
  },
  {
   "cell_type": "code",
   "execution_count": 2,
   "metadata": {},
   "outputs": [],
   "source": [
    "def graficar_datos(datos:pd.Series, ni:pd.Series, ancho:float)->None:\n",
    "    '''Función encargada de graficar los datos'''\n",
    "    fig, ax = plt.subplots(nrows=2, ncols=1, figsize=(20,8))\n",
    "    ax[0].bar(datos, ni, width=ancho)\n",
    "    ax[0].vlines(x=datos.mean(), ymin=0, ymax=ni.max(), color='red', linestyle='--', label='Media ({0:.3f})'.format(datos.mean()))\n",
    "    ax[0].vlines(x=datos.median(), ymin=0, ymax=ni.max(), color='blue', linestyle='--', label='Mediana ({0:0.3f})'.format(datos.median()))\n",
    "    ax[0].grid()\n",
    "    ax[0].legend(loc='upper left')\n",
    "    ax[1].boxplot(datos, vert=False)\n",
    "    plt.show()\n",
    "\n",
    "\n",
    "def tipificacion(x:pd.Series,media:float,desviacion:float)->pd.Series:\n",
    "    return (x-media)/desviacion\n",
    "\n",
    "\n",
    "def fisher(xi:pd.Series,ni:pd.Series) -> float:\n",
    "    '''Función encargada de cálcular el coeficiente\n",
    "    de Fisher'''\n",
    "    sumatoria = 0\n",
    "    x = xi.mean()\n",
    "    s_cubo = xi.std()**3\n",
    "    n = xi.count()\n",
    "    for i in range(n):\n",
    "        sumatoria += ni.iloc[i] * (xi.iloc[i]-x)**3\n",
    "    return sumatoria / (n*s_cubo)\n",
    "\n",
    "\n",
    "def curtosis(xi:pd.Series, ni:pd.Series)->float:\n",
    "    '''Función encargada de cálcular el coeficiente\n",
    "    de curtosis'''\n",
    "    sumatoria = 0\n",
    "    x = xi.mean()\n",
    "    s_4 = xi.std()**4\n",
    "    n = xi.count()\n",
    "    for i in range(n):\n",
    "        sumatoria += (ni.iloc[i]/n)*(xi.iloc[i]-x)**4\n",
    "    return (sumatoria/s_4)-3\n",
    "\n",
    "\n",
    "def funcion_de_densidad(dato:float, datos:pd.Series)->float:\n",
    "    '''Función encargada de calcularlos datos de la campana de Gauss\n",
    "    Parámetros de entrada:\n",
    "    dato --> Hace referencia a un dato de la muestra\n",
    "    datos --> Todos los datos de la muestra\n",
    "    Parámetros de salida:\n",
    "    f --> Valor de densidad calculado para el dato de entrada'''\n",
    "    u = datos.mean()\n",
    "    s = datos.std()\n",
    "    b = 1/(s*math.sqrt(2*math.pi))\n",
    "    f = b * math.exp((-1*(dato-u)**2)/(2*s**2))\n",
    "    return f\n"
   ]
  },
  {
   "cell_type": "markdown",
   "metadata": {},
   "source": [
    "**Ejercicio 1:** Con los datos del archivo datos1.csv obtener la transformación de tipificación\n",
    "\n",
    "**Solución**"
   ]
  },
  {
   "cell_type": "code",
   "execution_count": 3,
   "metadata": {},
   "outputs": [
    {
     "data": {
      "text/html": [
       "<div>\n",
       "<style scoped>\n",
       "    .dataframe tbody tr th:only-of-type {\n",
       "        vertical-align: middle;\n",
       "    }\n",
       "\n",
       "    .dataframe tbody tr th {\n",
       "        vertical-align: top;\n",
       "    }\n",
       "\n",
       "    .dataframe thead th {\n",
       "        text-align: right;\n",
       "    }\n",
       "</style>\n",
       "<table border=\"1\" class=\"dataframe\">\n",
       "  <thead>\n",
       "    <tr style=\"text-align: right;\">\n",
       "      <th></th>\n",
       "      <th>datos</th>\n",
       "    </tr>\n",
       "  </thead>\n",
       "  <tbody>\n",
       "    <tr>\n",
       "      <th>0</th>\n",
       "      <td>28</td>\n",
       "    </tr>\n",
       "    <tr>\n",
       "      <th>1</th>\n",
       "      <td>80</td>\n",
       "    </tr>\n",
       "    <tr>\n",
       "      <th>2</th>\n",
       "      <td>78</td>\n",
       "    </tr>\n",
       "    <tr>\n",
       "      <th>3</th>\n",
       "      <td>67</td>\n",
       "    </tr>\n",
       "    <tr>\n",
       "      <th>4</th>\n",
       "      <td>25</td>\n",
       "    </tr>\n",
       "  </tbody>\n",
       "</table>\n",
       "</div>"
      ],
      "text/plain": [
       "   datos\n",
       "0     28\n",
       "1     80\n",
       "2     78\n",
       "3     67\n",
       "4     25"
      ]
     },
     "execution_count": 3,
     "metadata": {},
     "output_type": "execute_result"
    }
   ],
   "source": [
    "#Cargando los datos\n",
    "datos1_df = pd.read_csv('datos\\\\datos1.csv')\n",
    "datos1_df.head()"
   ]
  },
  {
   "cell_type": "code",
   "execution_count": 4,
   "metadata": {},
   "outputs": [
    {
     "data": {
      "text/html": [
       "<div>\n",
       "<style scoped>\n",
       "    .dataframe tbody tr th:only-of-type {\n",
       "        vertical-align: middle;\n",
       "    }\n",
       "\n",
       "    .dataframe tbody tr th {\n",
       "        vertical-align: top;\n",
       "    }\n",
       "\n",
       "    .dataframe thead th {\n",
       "        text-align: right;\n",
       "    }\n",
       "</style>\n",
       "<table border=\"1\" class=\"dataframe\">\n",
       "  <thead>\n",
       "    <tr style=\"text-align: right;\">\n",
       "      <th></th>\n",
       "      <th>xi</th>\n",
       "      <th>ni</th>\n",
       "    </tr>\n",
       "  </thead>\n",
       "  <tbody>\n",
       "    <tr>\n",
       "      <th>0</th>\n",
       "      <td>0</td>\n",
       "      <td>1</td>\n",
       "    </tr>\n",
       "    <tr>\n",
       "      <th>1</th>\n",
       "      <td>1</td>\n",
       "      <td>2</td>\n",
       "    </tr>\n",
       "    <tr>\n",
       "      <th>2</th>\n",
       "      <td>2</td>\n",
       "      <td>2</td>\n",
       "    </tr>\n",
       "    <tr>\n",
       "      <th>3</th>\n",
       "      <td>4</td>\n",
       "      <td>1</td>\n",
       "    </tr>\n",
       "    <tr>\n",
       "      <th>4</th>\n",
       "      <td>5</td>\n",
       "      <td>2</td>\n",
       "    </tr>\n",
       "  </tbody>\n",
       "</table>\n",
       "</div>"
      ],
      "text/plain": [
       "   xi  ni\n",
       "0   0   1\n",
       "1   1   2\n",
       "2   2   2\n",
       "3   4   1\n",
       "4   5   2"
      ]
     },
     "execution_count": 4,
     "metadata": {},
     "output_type": "execute_result"
    }
   ],
   "source": [
    "#Creando la tabla de frecuencia\n",
    "tabla1_f = datos1_df.datos.value_counts()\n",
    "tabla1_f = tabla1_f.sort_index()\n",
    "tabla1_f = tabla1_f.reset_index()\n",
    "tabla1_f = tabla1_f.rename(columns={'index':'xi', 'datos':'ni'})\n",
    "tabla1_f.head()"
   ]
  },
  {
   "cell_type": "code",
   "execution_count": 5,
   "metadata": {},
   "outputs": [
    {
     "data": {
      "text/plain": [
       "-0.10635333899030358"
      ]
     },
     "execution_count": 5,
     "metadata": {},
     "output_type": "execute_result"
    }
   ],
   "source": [
    "fisher(xi=tabla1_f.xi, ni=tabla1_f.ni)"
   ]
  },
  {
   "cell_type": "code",
   "execution_count": 6,
   "metadata": {},
   "outputs": [
    {
     "data": {
      "text/plain": [
       "-0.1763014018344773"
      ]
     },
     "execution_count": 6,
     "metadata": {},
     "output_type": "execute_result"
    }
   ],
   "source": [
    "curtosis(xi=tabla1_f.xi, ni=tabla1_f.ni)"
   ]
  },
  {
   "cell_type": "code",
   "execution_count": 7,
   "metadata": {},
   "outputs": [
    {
     "data": {
      "image/png": "[encoded data removed]",
      "text/plain": [
       "<Figure size 1440x576 with 2 Axes>"
      ]
     },
     "metadata": {
      "needs_background": "light"
     },
     "output_type": "display_data"
    }
   ],
   "source": [
    "#Graficando la distribución de los datos\n",
    "graficar_datos(datos=tabla1_f.xi,ni=tabla1_f.ni,ancho=0.5)"
   ]
  },
  {
   "cell_type": "code",
   "execution_count": 8,
   "metadata": {},
   "outputs": [
    {
     "data": {
      "text/html": [
       "<div>\n",
       "<style scoped>\n",
       "    .dataframe tbody tr th:only-of-type {\n",
       "        vertical-align: middle;\n",
       "    }\n",
       "\n",
       "    .dataframe tbody tr th {\n",
       "        vertical-align: top;\n",
       "    }\n",
       "\n",
       "    .dataframe thead th {\n",
       "        text-align: right;\n",
       "    }\n",
       "</style>\n",
       "<table border=\"1\" class=\"dataframe\">\n",
       "  <thead>\n",
       "    <tr style=\"text-align: right;\">\n",
       "      <th></th>\n",
       "      <th>datos</th>\n",
       "      <th>z</th>\n",
       "    </tr>\n",
       "  </thead>\n",
       "  <tbody>\n",
       "    <tr>\n",
       "      <th>0</th>\n",
       "      <td>28</td>\n",
       "      <td>-0.823104</td>\n",
       "    </tr>\n",
       "    <tr>\n",
       "      <th>1</th>\n",
       "      <td>80</td>\n",
       "      <td>0.938996</td>\n",
       "    </tr>\n",
       "    <tr>\n",
       "      <th>2</th>\n",
       "      <td>78</td>\n",
       "      <td>0.871223</td>\n",
       "    </tr>\n",
       "    <tr>\n",
       "      <th>3</th>\n",
       "      <td>67</td>\n",
       "      <td>0.498471</td>\n",
       "    </tr>\n",
       "    <tr>\n",
       "      <th>4</th>\n",
       "      <td>25</td>\n",
       "      <td>-0.924764</td>\n",
       "    </tr>\n",
       "  </tbody>\n",
       "</table>\n",
       "</div>"
      ],
      "text/plain": [
       "   datos         z\n",
       "0     28 -0.823104\n",
       "1     80  0.938996\n",
       "2     78  0.871223\n",
       "3     67  0.498471\n",
       "4     25 -0.924764"
      ]
     },
     "execution_count": 8,
     "metadata": {},
     "output_type": "execute_result"
    }
   ],
   "source": [
    "#Tipificando los datos\n",
    "datos1_df['z'] = tipificacion(x=datos1_df.datos, media=datos1_df.datos.mean(), desviacion=datos1_df.datos.std())\n",
    "datos1_df.head()"
   ]
  },
  {
   "cell_type": "code",
   "execution_count": 9,
   "metadata": {},
   "outputs": [
    {
     "data": {
      "text/plain": [
       "2.2204460492503132e-17"
      ]
     },
     "execution_count": 9,
     "metadata": {},
     "output_type": "execute_result"
    }
   ],
   "source": [
    "#Promedio de los datos tipificados\n",
    "datos1_df.z.mean()"
   ]
  },
  {
   "cell_type": "code",
   "execution_count": 10,
   "metadata": {},
   "outputs": [
    {
     "data": {
      "text/plain": [
       "0.9999999999999998"
      ]
     },
     "execution_count": 10,
     "metadata": {},
     "output_type": "execute_result"
    }
   ],
   "source": [
    "#Desviación estandar de los datos tipificados\n",
    "datos1_df.z.std()"
   ]
  },
  {
   "cell_type": "code",
   "execution_count": 11,
   "metadata": {},
   "outputs": [
    {
     "data": {
      "text/plain": [
       "0    0.009634\n",
       "1    0.008699\n",
       "2    0.009249\n",
       "3    0.011939\n",
       "4    0.008815\n",
       "Name: datos, dtype: float64"
      ]
     },
     "execution_count": 11,
     "metadata": {},
     "output_type": "execute_result"
    }
   ],
   "source": [
    "#Calculando los valores de densidad de los datos\n",
    "datos1_densidad = pd.Series(datos1_df.datos.apply(funcion_de_densidad, args=(datos1_df.datos,)))\n",
    "datos1_densidad.head()"
   ]
  },
  {
   "cell_type": "code",
   "execution_count": 12,
   "metadata": {},
   "outputs": [
    {
     "data": {
      "text/plain": [
       "<AxesSubplot:xlabel='datos', ylabel='datos'>"
      ]
     },
     "execution_count": 12,
     "metadata": {},
     "output_type": "execute_result"
    },
    {
     "data": {
      "image/png": "[encoded data removed]",
      "text/plain": [
       "<Figure size 432x288 with 1 Axes>"
      ]
     },
     "metadata": {
      "needs_background": "light"
     },
     "output_type": "display_data"
    }
   ],
   "source": [
    "#Se grafica la campana de Gauss para los datos\n",
    "sns.lineplot(x=datos1_df.datos, y=datos1_densidad)"
   ]
  },
  {
   "cell_type": "code",
   "execution_count": 13,
   "metadata": {},
   "outputs": [
    {
     "data": {
      "text/plain": [
       "0    0.284310\n",
       "1    0.256713\n",
       "2    0.272954\n",
       "3    0.352334\n",
       "4    0.260141\n",
       "Name: z, dtype: float64"
      ]
     },
     "execution_count": 13,
     "metadata": {},
     "output_type": "execute_result"
    }
   ],
   "source": [
    "#Calculando los valores de densidad de los datos z\n",
    "datosz1_densidad = pd.Series(datos1_df.z.apply(funcion_de_densidad, args=(datos1_df.z,)))\n",
    "datosz1_densidad.head()"
   ]
  },
  {
   "cell_type": "code",
   "execution_count": 14,
   "metadata": {},
   "outputs": [
    {
     "data": {
      "text/plain": [
       "<AxesSubplot:xlabel='z', ylabel='z'>"
      ]
     },
     "execution_count": 14,
     "metadata": {},
     "output_type": "execute_result"
    },
    {
     "data": {
      "image/png": "[encoded data removed]",
      "text/plain": [
       "<Figure size 432x288 with 1 Axes>"
      ]
     },
     "metadata": {
      "needs_background": "light"
     },
     "output_type": "display_data"
    }
   ],
   "source": [
    "#Se grafica la campana de Gauss para los datos tipificados\n",
    "sns.lineplot(x=datos1_df.z, y=datosz1_densidad)"
   ]
  }
 ],
 "metadata": {
  "interpreter": {
   "hash": "a0b743e3f46610aef585505bfb8ed266070dd1178baff540cb1eb86ae22f2f85"
  },
  "kernelspec": {
   "display_name": "Python 3.9.13 64-bit",
   "language": "python",
   "name": "python3"
  },
  "language_info": {
   "codemirror_mode": {
    "name": "ipython",
    "version": 3
   },
   "file_extension": ".py",
   "mimetype": "text/x-python",
   "name": "python",
   "nbconvert_exporter": "python",
   "pygments_lexer": "ipython3",
   "version": "3.9.13"
  },
  "orig_nbformat": 4
 },
 "nbformat": 4,
 "nbformat_minor": 2
}
